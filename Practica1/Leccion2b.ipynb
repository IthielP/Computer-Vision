{
 "cells": [
  {
   "cell_type": "markdown",
   "metadata": {},
   "source": [
    "\n",
    "<div style=\"line-height:2px;border: solid orange\">\n",
    "    <p>\n",
    "    <p style=\"color:blue;font-family:arial;text-align:right;font-size:20\"> Visión por Computador &nbsp;&nbsp;\n",
    "    <p style=\"color:blue;font-family:arial;text-align:right;font-size:16\"> Master en Ciencias de Datos e Ingeniería de ordenadores   &nbsp;&nbsp;\n",
    "  <p style=\"color:blue;font-family:arial;text-align:right;font-size:16\"> Rosa Mª. Rodríguez Sánchez   &nbsp;&nbsp;\n",
    "    <p style=\"color:blue;font-family:arial;text-align:right;font-size:10\"> Dpto. Ciencias de la Computación e Inteligencia Artificial. &nbsp;&nbsp;  \n",
    "    <p style=\"color:blue;font-family:arial;text-align:right;font-size:10\"> ETSIIT. Universidad de Granada   &nbsp;&nbsp;\n",
    "        <p>\n",
    "</div>\n"
   ]
  },
  {
   "cell_type": "markdown",
   "metadata": {},
   "source": [
    "## Práctica 1. Transformaciones Geométricas(Parte II)\n"
   ]
  },
  {
   "cell_type": "markdown",
   "metadata": {},
   "source": [
    "### Objetivos\n",
    "En esta lección aprenderemos a realizar transformaciones geometricas con una imagen. Son de gran utilidad en diferentes contextos. En este sentido aprenderemos a:\n",
    "* Escalar \n",
    "* Trasladar\n",
    "* Rotar\n",
    "* Transformaciones afines\n",
    "* Transformaciones proyectivas\n",
    "* Recotar "
   ]
  },
  {
   "cell_type": "markdown",
   "metadata": {},
   "source": [
    "### Escalado\n",
    "El escalado de una imagen nos va a permitir cambiar su tamaño. Para ello usaremos la funcion **cv2.resize()**"
   ]
  },
  {
   "cell_type": "code",
   "execution_count": 1,
   "metadata": {},
   "outputs": [],
   "source": [
    "import cv2\n",
    "from matplotlib import pyplot as plt\n",
    "\n",
    "img=cv2.imread('miki_pluto.jpg')\n",
    "#Doblamos el tamaño de la imagen\n",
    "resized_img = cv2.resize(img, (img.shape[1]*2,img.shape[0]*2), interpolation=cv2.INTER_LINEAR)\n",
    "#Tambien podemos reducirla a la mitad o al cualquier otro factor indicando\n",
    "#los parametros de escalado\n",
    "dst_img = cv2.resize(img, None, fx=0.5, fy=0.5, interpolation=cv2.INTER_AREA)\n",
    "\n",
    "cv2.imshow(\"Original\",img)\n",
    "cv2.imshow(\"Doble\",resized_img)\n",
    "cv2.imshow(\"Mitad\",dst_img)\n",
    "cv2.waitKey(0)\n",
    "cv2.destroyAllWindows()\n"
   ]
  },
  {
   "cell_type": "markdown",
   "metadata": {},
   "source": [
    "Si quieres agrandar la imagen, el mejor método de interpolación es \n",
    "cv2.INTER_CUBIC  o cv2.INTER_LINEAR.\n"
   ]
  },
  {
   "cell_type": "markdown",
   "metadata": {},
   "source": [
    "## Trasladar una imagen\n",
    "Para trasladar un objeto, se necesita crear un matriz de traslación $2\\times 3$, como se muestra a continuación.\n"
   ]
  },
  {
   "cell_type": "code",
   "execution_count": 2,
   "metadata": {},
   "outputs": [
    {
     "name": "stdout",
     "output_type": "stream",
     "text": [
      "[[  1.   0. 100.]\n",
      " [  0.   1.  80.]]\n"
     ]
    }
   ],
   "source": [
    "import numpy as np\n",
    "x=100\n",
    "y=80\n",
    "M = np.float32([[1, 0, x], [0, 1, y]])\n",
    "print(M)"
   ]
  },
  {
   "cell_type": "markdown",
   "metadata": {},
   "source": [
    "Una vez que la matriz ha sido creada, se invoca a la función cv2.warpAffine() para aplicar  la transformación sobre una imagen, en este caso es una transformación afine. Transformaciones afines son aquellas que la lineas paralelas la mantiene paralelas en la transformación.\n"
   ]
  },
  {
   "cell_type": "code",
   "execution_count": 3,
   "metadata": {},
   "outputs": [],
   "source": [
    "import cv2\n",
    "width=img.shape[1]\n",
    "height=img.shape[0]\n",
    "dst_img = cv2.warpAffine(img, M, (width, height))\n",
    "cv2.imshow(\"Traslación\",dst_img)\n",
    "cv2.waitKey(0)\n",
    "cv2.destroyAllWindows()"
   ]
  },
  {
   "cell_type": "markdown",
   "metadata": {},
   "source": [
    "La rotación de un imagen por un ángulo $\\theta$ se obtiene mediante la\n",
    "matriz de rotación:\n",
    "    <img src=\"m_rot.png\" >\n",
    "Además OpenCV permite crear matrices rotaciones con parámetros de escalado y ajustable a cualquier centro de rotación. \n",
    "    "
   ]
  },
  {
   "cell_type": "code",
   "execution_count": 8,
   "metadata": {},
   "outputs": [],
   "source": [
    "rows,cols=img.shape[:2]\n",
    "M = cv2.getRotationMatrix2D((cols/2,rows/2),45,1)\n",
    "#M = cv2.getRotationMatrix2D((0,0),45,1)\n",
    "dst_img = cv2.warpAffine(img,M,(cols,rows))\n",
    "cv2.imshow(\"Rotacion\",dst_img)\n",
    "cv2.waitKey(0)\n",
    "cv2.destroyAllWindows()"
   ]
  },
  {
   "cell_type": "markdown",
   "metadata": {},
   "source": [
    "### Transformaciones afines\n",
    "Como se comento antes una transformación afine mantiene las lineas paralelas. Para encontrar la transformación, necesitamos tres puntos desde la imagen de entrada y su correspondientes puntos en la image de salida. En este caso la función cv2.getAffineTransform crea una matriz $2\\times 3$ que se pasa a la función cv2.warpAffine."
   ]
  },
  {
   "cell_type": "code",
   "execution_count": 9,
   "metadata": {},
   "outputs": [],
   "source": [
    "pts1 = np.float32([[50,50],[200,50],[50,200]])\n",
    "pts2 = np.float32([[10,100],[200,50],[100,250]])\n",
    "M = cv2.getAffineTransform(pts1,pts2)\n",
    "dst_img = cv2.warpAffine(img,M,(cols,rows))\n",
    "cv2.imshow(\"Trans. Afine\",dst_img)\n",
    "cv2.waitKey(0)\n",
    "cv2.destroyAllWindows()\n"
   ]
  },
  {
   "cell_type": "markdown",
   "metadata": {},
   "source": [
    "### Transformaciones en Perspectiva\n",
    "Para realizar una transformación en perspectiva necesitas una matrix $3\\times 3$. Las lineas rectas las mantiene rectas. Para encontrar esta transformación, se necesita 4 puntos de la imagen de entrada y los correspondientes en la imagen de salida. Entre esos cuatro puntos, 3 de ellos deben ser colineales. Para construir la matriz de transformación se usa la función cv2.getPerspectiveTransform y a continaución para aplicarla se usa cv2.warpPerspective con la matrix de trnasformación."
   ]
  },
  {
   "cell_type": "code",
   "execution_count": 10,
   "metadata": {},
   "outputs": [],
   "source": [
    "pts1 = np.float32([[56,65],[368,52],[28,387],[389,390]])\n",
    "pts2 = np.float32([[0,0],[300,0],[0,300],[300,300]])\n",
    "M = cv2.getPerspectiveTransform(pts1,pts2)\n",
    "dst_img = cv2.warpPerspective(img,M,(300,300))\n",
    "cv2.imshow(\"Trans. Proyec\",dst_img)\n",
    "cv2.waitKey(0)\n",
    "cv2.destroyAllWindows()"
   ]
  },
  {
   "cell_type": "markdown",
   "metadata": {},
   "source": [
    "### Recortar una imagen\n",
    "Esto lo podemos usar indicando las posiciones que queremos coger de la imagen de la siguiente forma\n"
   ]
  },
  {
   "cell_type": "code",
   "execution_count": 11,
   "metadata": {},
   "outputs": [],
   "source": [
    "dst=img[100:300,150:350]\n",
    "cv2.imshow(\"Recorte\",dst)\n",
    "cv2.waitKey(0)\n",
    "cv2.destroyAllWindows()"
   ]
  }
 ],
 "metadata": {
  "kernelspec": {
   "display_name": "Python 3",
   "language": "python",
   "name": "python3"
  },
  "language_info": {
   "codemirror_mode": {
    "name": "ipython",
    "version": 3
   },
   "file_extension": ".py",
   "mimetype": "text/x-python",
   "name": "python",
   "nbconvert_exporter": "python",
   "pygments_lexer": "ipython3",
   "version": "3.8.5"
  }
 },
 "nbformat": 4,
 "nbformat_minor": 4
}
