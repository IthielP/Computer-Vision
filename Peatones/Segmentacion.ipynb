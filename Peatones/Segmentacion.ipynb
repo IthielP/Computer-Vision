{
  "nbformat": 4,
  "nbformat_minor": 0,
  "metadata": {
    "colab": {
      "name": "Segmentacion.ipynb",
      "provenance": [],
      "collapsed_sections": []
    },
    "kernelspec": {
      "name": "python3",
      "display_name": "Python 3"
    },
    "language_info": {
      "name": "python"
    }
  },
  "cells": [
    {
      "cell_type": "markdown",
      "metadata": {
        "id": "T7ykAQ9gFD7r"
      },
      "source": [
        "# Segmentación de peatones\n",
        "\n",
        "---\n",
        "\n",
        "Ithiel Piñero Darias\n",
        "\n",
        "Visión por computador\n",
        "\n",
        "11/06/2021 \n",
        "\n",
        "---\n",
        "\n"
      ]
    },
    {
      "cell_type": "markdown",
      "metadata": {
        "id": "T4XDVRzOFKFo"
      },
      "source": [
        "Sobre la base de datos de peatones para segmentación semántica. Partiendo de la\n",
        "arquitectura base probar diferentes modificaciones de esta. Realizar un análisis de las\n",
        "arquitecturas estudiadas"
      ]
    },
    {
      "cell_type": "code",
      "metadata": {
        "id": "zOt9XuFTPd7f"
      },
      "source": [
        "import tensorflow as tf\n",
        "from tensorflow.keras import datasets, layers, models\n",
        "import matplotlib.pyplot as plt\n",
        "import numpy as np\n",
        "import os\n",
        "import cv2"
      ],
      "execution_count": 59,
      "outputs": []
    },
    {
      "cell_type": "code",
      "metadata": {
        "colab": {
          "base_uri": "https://localhost:8080/"
        },
        "id": "07oS4sd7fus5",
        "outputId": "2f712af1-c1b0-404b-d2d0-3480d9f74f5c"
      },
      "source": [
        "from google.colab import drive\n",
        "drive.mount('/content/drive')"
      ],
      "execution_count": 60,
      "outputs": [
        {
          "output_type": "stream",
          "text": [
            "Drive already mounted at /content/drive; to attempt to forcibly remount, call drive.mount(\"/content/drive\", force_remount=True).\n"
          ],
          "name": "stdout"
        }
      ]
    },
    {
      "cell_type": "markdown",
      "metadata": {
        "id": "imi6tK1MFUIi"
      },
      "source": [
        "Carga de imagenes"
      ]
    },
    {
      "cell_type": "code",
      "metadata": {
        "id": "kQofaATbf6Uy"
      },
      "source": [
        "TRAIN_PATH_IMAGES = \"/content/drive/MyDrive/data_segmentation/train/images/PennPed000\"\n",
        "TRAIN_PATH_MASK = \"/content/drive/MyDrive/data_segmentation/train/mask/PennPed000\"\n",
        "TEST_PATH_IMAGES = \"/content/drive/MyDrive/data_segmentation/test/images/FudanPed000\"\n",
        "TEST_PATH_MASK = \"/content/drive/MyDrive/data_segmentation/test/mask/FudanPed000\""
      ],
      "execution_count": 61,
      "outputs": []
    },
    {
      "cell_type": "markdown",
      "metadata": {
        "id": "mNdUj1iqBAVM"
      },
      "source": [
        "Carga de imagenes, convertimos todas las imágenes a tamaño 214x214 como se indica "
      ]
    },
    {
      "cell_type": "code",
      "metadata": {
        "id": "mUKIiv_fh_NB"
      },
      "source": [
        "train_images = []\n",
        "train_mask = []\n",
        "test_images = []\n",
        "test_mask = []\n",
        "\n",
        "for i in range(1,97):\n",
        "  if i < 10:\n",
        "      filename = TRAIN_PATH_IMAGES+\"0\"+str(i)+\".png\"\n",
        "  else:\n",
        "      filename = TRAIN_PATH_IMAGES+str(i)+\".png\"\n",
        "  img = cv2.imread(filename)\n",
        "  img = cv2.resize(img, (214,214))\n",
        "  #img = img/255.\n",
        "  train_images.append(img)\n",
        "\n",
        "for i in range(1,97):\n",
        "  if i < 10:\n",
        "    filename = TRAIN_PATH_MASK+\"0\"+str(i)+\"_mask.png\"\n",
        "  else:\n",
        "    filename = TRAIN_PATH_MASK+str(i)+\"_mask.png\"\n",
        " \n",
        "  img = cv2.imread(filename)\n",
        "  img = cv2.resize(img, (214,214))\n",
        "  train_mask.append(img)\n",
        "\n",
        "for i in range(1,75):\n",
        "  if i < 10:\n",
        "    filename = TEST_PATH_IMAGES+\"0\"+str(i)+\".png\"\n",
        "  else:\n",
        "    filename = TEST_PATH_IMAGES+str(i)+\".png\"\n",
        "  \n",
        "  img = cv2.imread(filename)\n",
        "  img = cv2.resize(img, (214,214))\n",
        "  #img = img/255\n",
        "  test_images.append(img)\n",
        "\n",
        "for i in range(1,75):\n",
        "  if i < 10:\n",
        "      filename = TEST_PATH_MASK+\"0\"+str(i)+\"_mask.png\"\n",
        "  else:\n",
        "      filename = TEST_PATH_MASK+str(i)+\"_mask.png\"\n",
        "  img = cv2.imread(filename)\n",
        "  img = cv2.resize(img, (214,214))\n",
        "  test_mask.append(img)"
      ],
      "execution_count": 62,
      "outputs": []
    },
    {
      "cell_type": "markdown",
      "metadata": {
        "id": "kjETzF2fBFLk"
      },
      "source": [
        "Comprobamos que las imágenes se corresponden con su máscara."
      ]
    },
    {
      "cell_type": "code",
      "metadata": {
        "colab": {
          "base_uri": "https://localhost:8080/",
          "height": 286
        },
        "id": "TH4lPWrVyuka",
        "outputId": "0c61cbb2-a7ef-424c-bd65-ec9a0e686dd5"
      },
      "source": [
        "img = cv2.cvtColor(train_images[0], cv2.COLOR_BGR2GRAY)\n",
        "mask = cv2.cvtColor(train_mask[0], cv2.COLOR_BGR2GRAY)\n",
        "masked = cv2.bitwise_and(img, img, mask=mask)\n",
        "plt.imshow(masked, \"gray\")"
      ],
      "execution_count": 63,
      "outputs": [
        {
          "output_type": "execute_result",
          "data": {
            "text/plain": [
              "<matplotlib.image.AxesImage at 0x7f543c148550>"
            ]
          },
          "metadata": {
            "tags": []
          },
          "execution_count": 63
        },
        {
          "output_type": "display_data",
          "data": {
            "image/png": "[encoded data removed]",
            "text/plain": [
              "<Figure size 432x288 with 1 Axes>"
            ]
          },
          "metadata": {
            "tags": [],
            "needs_background": "light"
          }
        }
      ]
    },
    {
      "cell_type": "code",
      "metadata": {
        "id": "gDiylStVupRg"
      },
      "source": [
        "train_images = np.array(train_images).astype(np.float32)\n",
        "train_mask = np.array(train_mask).astype(np.float32)\n",
        "test_images = np.array(test_images).astype(np.float32)\n",
        "test_mask = np.array(test_mask).astype(np.float32)"
      ],
      "execution_count": 64,
      "outputs": []
    },
    {
      "cell_type": "code",
      "metadata": {
        "id": "iME8lZFNK5vV"
      },
      "source": [
        "for i in range(train_mask.shape[0]):\n",
        "  train_mask[i][train_mask[i] > 1] = 1\n",
        "\n",
        "for i in range(test_mask.shape[0]):\n",
        "  test_mask[i][test_mask[i] > 1] = 1"
      ],
      "execution_count": 65,
      "outputs": []
    },
    {
      "cell_type": "markdown",
      "metadata": {
        "id": "Q1WH-t2eFlVB"
      },
      "source": [
        "Generación de la arquitectura recomendada en la documentación"
      ]
    },
    {
      "cell_type": "code",
      "metadata": {
        "id": "xaWWXlydBOpV"
      },
      "source": [
        "import pandas as pd\n",
        "df1 = pd.DataFrame(columns=['accuracy', 'time execution (seconds)', 'mean IoU'], index=[\"train\", \"test\"])"
      ],
      "execution_count": 66,
      "outputs": []
    },
    {
      "cell_type": "code",
      "metadata": {
        "colab": {
          "base_uri": "https://localhost:8080/"
        },
        "id": "VCTL1Nv8A1i4",
        "outputId": "40673689-631b-4da1-adb3-8cdbd4125b49"
      },
      "source": [
        "model = models.Sequential()\n",
        "model.add(layers.Conv2D(64, (3, 3), activation='relu',padding=\"same\", input_shape=(214, 214, 3)))\n",
        "model.add(layers.MaxPooling2D((2, 2), strides=(2,2)))\n",
        "model.add(layers.Conv2D(64, (3, 3), activation='relu',padding=\"same\"))\n",
        "model.add(layers.MaxPooling2D((2, 2), strides=(2,2)))\n",
        "model.add(layers.Conv2D(64, (3, 3), activation='relu',padding=\"same\"))\n",
        "model.add(layers.Conv2D(64, (3, 3), padding=\"same\"))\n",
        "model.add(layers.Conv2DTranspose(64, (4,4), strides=(2,2)))\n",
        "model.add(layers.Cropping2D(cropping=(1)))\n",
        "model.add(layers.Conv2DTranspose(64, (4,4), strides=(2,2)))\n",
        "model.add(layers.Cropping2D(cropping=(0)))\n",
        "model.add(layers.Conv2D(2, (1, 1), padding=\"valid\"))\n",
        "model.add(layers.Dense(3,activation=\"softmax\"))\n",
        "model.summary()\n",
        "\n",
        "model.compile(loss='binary_crossentropy', optimizer='adam')\n",
        "\n",
        "model.fit(train_images,train_mask, epochs=10)"
      ],
      "execution_count": 67,
      "outputs": [
        {
          "output_type": "stream",
          "text": [
            "Model: \"sequential_2\"\n",
            "_________________________________________________________________\n",
            "Layer (type)                 Output Shape              Param #   \n",
            "=================================================================\n",
            "conv2d_10 (Conv2D)           (None, 214, 214, 64)      1792      \n",
            "_________________________________________________________________\n",
            "max_pooling2d_4 (MaxPooling2 (None, 107, 107, 64)      0         \n",
            "_________________________________________________________________\n",
            "conv2d_11 (Conv2D)           (None, 107, 107, 64)      36928     \n",
            "_________________________________________________________________\n",
            "max_pooling2d_5 (MaxPooling2 (None, 53, 53, 64)        0         \n",
            "_________________________________________________________________\n",
            "conv2d_12 (Conv2D)           (None, 53, 53, 64)        36928     \n",
            "_________________________________________________________________\n",
            "conv2d_13 (Conv2D)           (None, 53, 53, 64)        36928     \n",
            "_________________________________________________________________\n",
            "conv2d_transpose_4 (Conv2DTr (None, 108, 108, 64)      65600     \n",
            "_________________________________________________________________\n",
            "cropping2d_4 (Cropping2D)    (None, 106, 106, 64)      0         \n",
            "_________________________________________________________________\n",
            "conv2d_transpose_5 (Conv2DTr (None, 214, 214, 64)      65600     \n",
            "_________________________________________________________________\n",
            "cropping2d_5 (Cropping2D)    (None, 214, 214, 64)      0         \n",
            "_________________________________________________________________\n",
            "conv2d_14 (Conv2D)           (None, 214, 214, 2)       130       \n",
            "_________________________________________________________________\n",
            "dense_2 (Dense)              (None, 214, 214, 3)       9         \n",
            "=================================================================\n",
            "Total params: 243,915\n",
            "Trainable params: 243,915\n",
            "Non-trainable params: 0\n",
            "_________________________________________________________________\n",
            "Epoch 1/10\n",
            "3/3 [==============================] - 30s 11s/step - loss: 2.6168\n",
            "Epoch 2/10\n",
            "3/3 [==============================] - 27s 9s/step - loss: 1.1832\n",
            "Epoch 3/10\n",
            "3/3 [==============================] - 26s 9s/step - loss: 0.6748\n",
            "Epoch 4/10\n",
            "3/3 [==============================] - 26s 9s/step - loss: 0.6350\n",
            "Epoch 5/10\n",
            "3/3 [==============================] - 27s 9s/step - loss: 0.5836\n",
            "Epoch 6/10\n",
            "3/3 [==============================] - 26s 9s/step - loss: 0.5476\n",
            "Epoch 7/10\n",
            "3/3 [==============================] - 27s 9s/step - loss: 0.5513\n",
            "Epoch 8/10\n",
            "3/3 [==============================] - 26s 9s/step - loss: 0.5380\n",
            "Epoch 9/10\n",
            "3/3 [==============================] - 26s 9s/step - loss: 0.5278\n",
            "Epoch 10/10\n",
            "3/3 [==============================] - 26s 9s/step - loss: 0.5136\n"
          ],
          "name": "stdout"
        },
        {
          "output_type": "execute_result",
          "data": {
            "text/plain": [
              "<tensorflow.python.keras.callbacks.History at 0x7f543c04ed90>"
            ]
          },
          "metadata": {
            "tags": []
          },
          "execution_count": 67
        }
      ]
    },
    {
      "cell_type": "markdown",
      "metadata": {
        "id": "fdcRrEQxCs8e"
      },
      "source": [
        "Implementación de IoU"
      ]
    },
    {
      "cell_type": "code",
      "metadata": {
        "id": "Z_3FNdWME-hu"
      },
      "source": [
        "from sklearn.metrics import confusion_matrix\n",
        "\n",
        "def IoU(real, pred):\n",
        "  cm = confusion_matrix(real.flatten(),pred.flatten()) \n",
        "  sum_row = np.sum(cm,axis=1)\n",
        "  sum_col = np.sum(cm,axis=0)\n",
        "  true_positives = np.diagonal(cm)\n",
        "  iou = true_positives / (sum_row + sum_col - true_positives)\n",
        "  return sum(iou)"
      ],
      "execution_count": 73,
      "outputs": []
    },
    {
      "cell_type": "markdown",
      "metadata": {
        "id": "y9Afm_LOR0hO"
      },
      "source": [
        "Realizamos la predicción tanto con el muestreo de entrenamiento como con el de test. Analizaremos el valor de IoU, accuracy y tiempo de ejecucción. "
      ]
    },
    {
      "cell_type": "code",
      "metadata": {
        "id": "v4JIykh3z2xC"
      },
      "source": [
        "import time\n",
        "start_time = time.time()\n",
        "train_predict = model.predict(train_images)\n",
        "end_time = time.time()\n",
        "\n",
        "train_predict[train_predict >= 0.5] = 1.\n",
        "train_predict[train_predict < 0.5] = 0.\n",
        "\n",
        "acc = np.mean(train_mask == train_predict)\n",
        "\n",
        "iou = IoU(train_mask, train_predict)\n",
        "\n",
        "df1.loc[\"train\"] = [acc, end_time-start_time, iou]"
      ],
      "execution_count": 74,
      "outputs": []
    },
    {
      "cell_type": "code",
      "metadata": {
        "id": "sWqBddj9CMiO"
      },
      "source": [
        "import time\n",
        "start_time = time.time()\n",
        "test_predict = model.predict(test_images)\n",
        "end_time = time.time()\n",
        "\n",
        "test_predict[test_predict >= 0.5] = 1.\n",
        "test_predict[test_predict < 0.5] = 0.\n",
        "\n",
        "acc = np.mean(test_mask == test_predict)\n",
        "\n",
        "iou = IoU(test_mask, test_predict)\n",
        "\n",
        "df1.loc[\"test\"] = [acc, end_time-start_time, iou]"
      ],
      "execution_count": 75,
      "outputs": []
    },
    {
      "cell_type": "markdown",
      "metadata": {
        "id": "sZz9BaEmSeZN"
      },
      "source": [
        "Hemos logrado, una precisión en test del 82%, con un tiempo de ejecución de unos 10 segundos en ambos conjuntos (test y train). Por otra parte, el resultado final de meanIoU es de 86% en test y 80% en train. "
      ]
    },
    {
      "cell_type": "code",
      "metadata": {
        "colab": {
          "base_uri": "https://localhost:8080/",
          "height": 110
        },
        "id": "s7n5TkP8SAJU",
        "outputId": "994da721-2998-4932-acda-c04835a8d802"
      },
      "source": [
        "df1"
      ],
      "execution_count": 76,
      "outputs": [
        {
          "output_type": "execute_result",
          "data": {
            "text/html": [
              "<div>\n",
              "<style scoped>\n",
              "    .dataframe tbody tr th:only-of-type {\n",
              "        vertical-align: middle;\n",
              "    }\n",
              "\n",
              "    .dataframe tbody tr th {\n",
              "        vertical-align: top;\n",
              "    }\n",
              "\n",
              "    .dataframe thead th {\n",
              "        text-align: right;\n",
              "    }\n",
              "</style>\n",
              "<table border=\"1\" class=\"dataframe\">\n",
              "  <thead>\n",
              "    <tr style=\"text-align: right;\">\n",
              "      <th></th>\n",
              "      <th>accuracy</th>\n",
              "      <th>time execution (seconds)</th>\n",
              "      <th>mean IoU</th>\n",
              "    </tr>\n",
              "  </thead>\n",
              "  <tbody>\n",
              "    <tr>\n",
              "      <th>train</th>\n",
              "      <td>0.765013</td>\n",
              "      <td>10.2522</td>\n",
              "      <td>0.800372</td>\n",
              "    </tr>\n",
              "    <tr>\n",
              "      <th>test</th>\n",
              "      <td>0.824404</td>\n",
              "      <td>10.2568</td>\n",
              "      <td>0.862346</td>\n",
              "    </tr>\n",
              "  </tbody>\n",
              "</table>\n",
              "</div>"
            ],
            "text/plain": [
              "       accuracy time execution (seconds)  mean IoU\n",
              "train  0.765013                  10.2522  0.800372\n",
              "test   0.824404                  10.2568  0.862346"
            ]
          },
          "metadata": {
            "tags": []
          },
          "execution_count": 76
        }
      ]
    }
  ]
}